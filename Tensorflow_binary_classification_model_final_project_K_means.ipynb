{
 "cells": [
  {
   "cell_type": "markdown",
   "metadata": {},
   "source": [
    "# K-means Method"
   ]
  },
  {
   "cell_type": "code",
   "execution_count": 1,
   "metadata": {},
   "outputs": [],
   "source": [
    "import numpy as np\n",
    "import tensorflow as tf\n",
    "from sklearn.model_selection import train_test_split\n",
    "from tensorflow.contrib.factorization import KMeans\n",
    "# Ignore all GPUs, tf random forest does not benefit from it.\n",
    "import os\n",
    "os.environ[\"CUDA_VISIBLE_DEVICES\"] = \"\""
   ]
  },
  {
   "cell_type": "code",
   "execution_count": 2,
   "metadata": {},
   "outputs": [],
   "source": [
    "features = np.loadtxt(\"features.txt\", delimiter=\",\")\n",
    "labels = np.loadtxt(\"labels.txt\", delimiter=\",\")\n",
    "x_all = features\n",
    "#y_all = labels\n",
    "y_all = np.array([labels, -(labels-1)]).T \n",
    "# normalize\n",
    "x_all = (x_all - x_all.min(0)) / x_all.ptp(0)\n",
    "#Split the data in train & test\n",
    "#Y_reshape = data[:,2].reshape(data[:,2].shape[0], 1)\n",
    "x_train, x_test, y_train, y_test = train_test_split(x_all, y_all)"
   ]
  },
  {
   "cell_type": "code",
   "execution_count": 3,
   "metadata": {},
   "outputs": [
    {
     "name": "stdout",
     "output_type": "stream",
     "text": [
      "WARNING:tensorflow:From f:\\installed\\software\\python36\\lib\\site-packages\\tensorflow\\contrib\\factorization\\python\\ops\\clustering_ops.py:743: calling l2_normalize (from tensorflow.python.ops.nn_impl) with dim is deprecated and will be removed in a future version.\n",
      "Instructions for updating:\n",
      "dim is deprecated, use axis instead\n",
      "Step 1, Avg Distance: 0.007974\n",
      "Step 10, Avg Distance: 0.004258\n",
      "Step 20, Avg Distance: 0.004147\n",
      "Step 30, Avg Distance: 0.004103\n",
      "Step 40, Avg Distance: 0.004079\n",
      "Step 50, Avg Distance: 0.004062\n",
      "Step 60, Avg Distance: 0.004050\n",
      "Step 70, Avg Distance: 0.004041\n",
      "Step 80, Avg Distance: 0.004033\n",
      "Step 90, Avg Distance: 0.004026\n",
      "Step 100, Avg Distance: 0.004020\n",
      "Train Accuracy: 0.8514079\n",
      "Test Accuracy: 0.840301\n"
     ]
    }
   ],
   "source": [
    "# Parameters\n",
    "num_steps = 100 # Total steps to train\n",
    "batch_size = 1024 # The number of samples per batch\n",
    "k = 30 # The number of clusters\n",
    "num_classes = 2 # The 10 digits\n",
    "num_features = 244 # Each image is 244 bands\n",
    "\n",
    "# Input data\n",
    "X = tf.placeholder(tf.float32, shape=[None, num_features])\n",
    "# Labels (for assigning a label to a centroid and testing)\n",
    "Y = tf.placeholder(tf.float32, shape=[None, num_classes])\n",
    "\n",
    "# K-Means Parameters\n",
    "kmeans = KMeans(inputs=X, num_clusters=k, distance_metric='cosine',\n",
    "                use_mini_batch=True)\n",
    "\n",
    "\n",
    "# Build KMeans graph\n",
    "(all_scores, cluster_idx, scores, cluster_centers_initialized,init_op,train_op) = kmeans.training_graph()\n",
    "cluster_idx = cluster_idx[0] \n",
    "#all_scores, cluster_idx, scores, cluster_centers_initialized, cluster_centers_vars,init_op,train_op) = kmeans.training_graph()\n",
    "#cluster_idx = cluster_idx[0] # fix for cluster_idx being a tuple\n",
    " \n",
    "avg_distance = tf.reduce_mean(scores)\n",
    "\n",
    "# Initialize the variables (i.e. assign their default value)\n",
    "init_vars = tf.global_variables_initializer()\n",
    "\n",
    "# Start TensorFlow session\n",
    "sess = tf.Session()\n",
    "\n",
    "# Run the initializer\n",
    "sess.run(init_vars, feed_dict={X: x_train})\n",
    "sess.run(init_op, feed_dict={X: x_train})\n",
    "\n",
    "# Training\n",
    "for i in range(1, num_steps + 1):\n",
    "    _, d, idx = sess.run([train_op, avg_distance, cluster_idx],\n",
    "                         feed_dict={X: x_train})\n",
    "    if i % 10 == 0 or i == 1:\n",
    "        print(\"Step %i, Avg Distance: %f\" % (i, d))\n",
    "\n",
    "# Assign a label to each centroid\n",
    "# Count total number of labels per centroid, using the label of each training\n",
    "# sample to their closest centroid (given by 'idx')\n",
    "counts = np.zeros(shape=(k, num_classes))\n",
    "for i in range(len(idx)):\n",
    "    counts[idx[i]] += y_train[i]\n",
    "# Assign the most frequent label to the centroid\n",
    "labels_map = [np.argmax(c) for c in counts]\n",
    "labels_map = tf.convert_to_tensor(labels_map)\n",
    "\n",
    "# Evaluation ops\n",
    "# Lookup: centroid_id -> label\n",
    "cluster_label = tf.nn.embedding_lookup(labels_map, cluster_idx)\n",
    "# Compute accuracy\n",
    "correct_prediction = tf.equal(cluster_label, tf.cast(tf.argmax(Y, 1), tf.int32))\n",
    "accuracy_op = tf.reduce_mean(tf.cast(correct_prediction, tf.float32))\n",
    "\n",
    "# Test Model\n",
    "#test_x, test_y = mnist.test.images, mnist.test.labels\n",
    "print(\"Train Accuracy:\", sess.run(accuracy_op, feed_dict={X: x_train, Y: y_train}))\n",
    "print(\"Test Accuracy:\", sess.run(accuracy_op, feed_dict={X: x_test, Y: y_test}))"
   ]
  },
  {
   "cell_type": "code",
   "execution_count": null,
   "metadata": {
    "collapsed": true
   },
   "outputs": [],
   "source": []
  }
 ],
 "metadata": {
  "kernelspec": {
   "display_name": "Python 3",
   "language": "python",
   "name": "python3"
  },
  "language_info": {
   "codemirror_mode": {
    "name": "ipython",
    "version": 3
   },
   "file_extension": ".py",
   "mimetype": "text/x-python",
   "name": "python",
   "nbconvert_exporter": "python",
   "pygments_lexer": "ipython3",
   "version": "3.6.1"
  }
 },
 "nbformat": 4,
 "nbformat_minor": 1
}
