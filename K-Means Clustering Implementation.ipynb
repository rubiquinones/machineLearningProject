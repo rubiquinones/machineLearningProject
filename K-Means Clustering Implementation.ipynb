{
 "cells": [
  {
   "cell_type": "markdown",
   "metadata": {},
   "source": [
    "# Early Plant Stress Detection in Cotton Using Hyperspectral Images\n",
    "\n",
    "## CSCE 878 Intro Machine Learning\n",
    "\n",
    "## K-Means Clustering Implementation\n",
    "\n",
    "###  Rubi Quinones & Jiaqi Xu"
   ]
  },
  {
   "cell_type": "markdown",
   "metadata": {},
   "source": [
    "#### Description: \n",
    "\n",
    "Predicting and quantifying early drought stress which is currently not yet visible to the naked eye. Drought stress, induced by water shortage, is one of the big challenges in global crop production. \n",
    "\n",
    "#### Goal: \n",
    "\n",
    "\n",
    "\n",
    "#### Dataset:\n",
    "\n",
    "There is a total of 12,200 hyperspectral images."
   ]
  },
  {
   "cell_type": "markdown",
   "metadata": {},
   "source": [
    "# Task 1: Pre-Process the Hyperspectral Images"
   ]
  },
  {
   "cell_type": "markdown",
   "metadata": {},
   "source": [
    "Import python libraries"
   ]
  },
  {
   "cell_type": "code",
   "execution_count": 1,
   "metadata": {},
   "outputs": [],
   "source": [
    "import numpy as np\n",
    "import matplotlib.pyplot as plt"
   ]
  },
  {
   "cell_type": "markdown",
   "metadata": {},
   "source": [
    "import all modules"
   ]
  },
  {
   "cell_type": "code",
   "execution_count": 2,
   "metadata": {},
   "outputs": [],
   "source": [
    "import os\n",
    "import numpy as np\n",
    "import matplotlib.pyplot as plt\n",
    "from skimage.io import imread\n",
    "from skimage.color import rgb2gray\n",
    "\n",
    "folder = '/2017-06-14_09-40-59_1048600'\n",
    "direct = os.getcwd() + folder"
   ]
  },
  {
   "cell_type": "code",
   "execution_count": 3,
   "metadata": {},
   "outputs": [
    {
     "data": {
      "text/plain": [
       "'G:\\\\Data\\\\878_CSCE_Machine_Learning\\\\Project\\\\git_project\\\\repository'"
      ]
     },
     "execution_count": 3,
     "metadata": {},
     "output_type": "execute_result"
    }
   ],
   "source": [
    "os.getcwd()"
   ]
  },
  {
   "cell_type": "markdown",
   "metadata": {},
   "source": [
    "define prepocess_image class, there are two functions inside it, function readHSImages is to read all png files under directory folder and "
   ]
  }
 ],
 "metadata": {
  "kernelspec": {
   "display_name": "Python 3",
   "language": "python",
   "name": "python3"
  },
  "language_info": {
   "codemirror_mode": {
    "name": "ipython",
    "version": 3
   },
   "file_extension": ".py",
   "mimetype": "text/x-python",
   "name": "python",
   "nbconvert_exporter": "python",
   "pygments_lexer": "ipython3",
   "version": "3.6.1"
  }
 },
 "nbformat": 4,
 "nbformat_minor": 2
}
