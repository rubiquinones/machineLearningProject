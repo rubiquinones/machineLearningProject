{
 "cells": [
  {
   "cell_type": "markdown",
   "metadata": {},
   "source": [
    "# Early Plant Stress Detection in Cotton Using Hyperspectral Images\n",
    "\n",
    "## CSCE 878 Intro Machine Learning\n",
    "\n",
    "## K-Means Clustering Implementation\n",
    "\n",
    "###  Rubi Quinones & Jiaqi Xu"
   ]
  },
  {
   "cell_type": "markdown",
   "metadata": {},
   "source": [
    "#### Description: \n",
    "\n",
    "Predicting and quantifying early drought stress which is currently not yet visible to the naked eye. Drought stress, induced by water shortage, is one of the big challenges in global crop production. \n",
    "\n",
    "#### Goal: \n",
    "\n",
    "\n",
    "\n",
    "#### Dataset:\n",
    "\n",
    "There is a total of 12,200 hyperspectral images."
   ]
  },
  {
   "cell_type": "markdown",
   "metadata": {},
   "source": [
    "# Task 1: Pre-Process the Hyperspectral Images"
   ]
  },
  {
   "cell_type": "markdown",
   "metadata": {},
   "source": [
    "import all modules"
   ]
  },
  {
   "cell_type": "code",
   "execution_count": 2,
   "metadata": {},
   "outputs": [],
   "source": [
    "import os\n",
    "import numpy as np\n",
    "import matplotlib.pyplot as plt\n",
    "from skimage.io import imread\n",
    "from skimage.color import rgb2gray\n",
    "\n",
    "folder = '6-13-17cotton/613-181-01/2017-06-14_09-40-59_1048600'\n",
    "direct = os.getcwd() + folder"
   ]
  },
  {
   "cell_type": "markdown",
   "metadata": {},
   "source": [
    "define pre-process_image class. There are two functions inside the class: readHSImages function reads all .png files(bands) under directory folder into a stack matrix and plot_image function plots a selected band"
   ]
  },
  {
   "cell_type": "code",
   "execution_count": 3,
   "metadata": {},
   "outputs": [],
   "source": [
    "class preprocess_image():\n",
    "\n",
    "    def readHSImages(self, direct):\n",
    "        #change directory\n",
    "        self.direct = direct\n",
    "        os.chdir(self.direct)\n",
    "        filelist = os.listdir(os.getcwd())\n",
    "\n",
    "        ##get all \".png\" files in required folder\n",
    "        for fichier in filelist:\n",
    "            if not(fichier.endswith(\".png\")):\n",
    "                filelist.remove(fichier)\n",
    "\n",
    "        ###remove file '1_0_0.png'\n",
    "        filelist.remove('1_0_0.png')\n",
    "\n",
    "        for i in range(len(filelist)):\n",
    "            #band = rgb2gray(imread(filelist[i]))\n",
    "            band = imread(filelist[i])\n",
    "            #get first band \n",
    "            band = band[:,:,0]\n",
    "            if i==0:\n",
    "                outimage = band\n",
    "            else:\n",
    "                outimage = np.dstack((outimage , band))\n",
    "                #print(filelist[i])\n",
    "    \n",
    "        return outimage\n",
    "    \n",
    "    def plot_image(self, band_i):\n",
    "        self.band_i = band_i\n",
    "        plt.figure(0)\n",
    "        plt.imshow(self.band_i,cmap=\"gray\")\n",
    "        plt.show()"
   ]
  },
  {
   "cell_type": "code",
   "execution_count": 4,
   "metadata": {},
   "outputs": [
    {
     "name": "stdout",
     "output_type": "stream",
     "text": [
      "The shape of images are:(561, 320, 20)\n"
     ]
    },
    {
     "data": {
      "image/png": "[encoded data removed]",
      "text/plain": [
       "<matplotlib.figure.Figure at 0x1c4198446d8>"
      ]
     },
     "metadata": {},
     "output_type": "display_data"
    }
   ],
   "source": [
    "#####read all image and output as a stack 3-D array\n",
    "pre = preprocess_image()\n",
    "image = pre.readHSImages(direct = direct)\n",
    "print(\"The shape of images are:{}\".format(image.shape))\n",
    "###plot image 1\n",
    "pre.plot_image(band_i = image[:,:,0])"
   ]
  },
  {
   "cell_type": "code",
   "execution_count": null,
   "metadata": {},
   "outputs": [],
   "source": []
  }
 ],
 "metadata": {
  "kernelspec": {
   "display_name": "Python 3",
   "language": "python",
   "name": "python3"
  },
  "language_info": {
   "codemirror_mode": {
    "name": "ipython",
    "version": 3
   },
   "file_extension": ".py",
   "mimetype": "text/x-python",
   "name": "python",
   "nbconvert_exporter": "python",
   "pygments_lexer": "ipython3",
   "version": "3.6.5"
  }
 },
 "nbformat": 4,
 "nbformat_minor": 2
}
